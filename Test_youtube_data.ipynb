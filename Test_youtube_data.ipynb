{
 "cells": [
  {
   "cell_type": "code",
   "execution_count": 1,
   "metadata": {},
   "outputs": [],
   "source": [
    "\n",
    "import pandas as pd\n",
    "import pickle\n",
    "from sklearn.base import BaseEstimator, TransformerMixin\n",
    "from sklearn.compose import ColumnTransformer\n",
    "from nltk.stem.porter import PorterStemmer\n",
    "import re\n",
    "import nltk\n",
    "import numpy as np\n",
    "from nltk.corpus import stopwords\n",
    "import csv"
   ]
  },
  {
   "cell_type": "code",
   "execution_count": 2,
   "metadata": {},
   "outputs": [],
   "source": [
    "youtube_df = pd.read_csv('product_caption.csv')\n",
    "youtube_df = youtube_df.dropna()"
   ]
  },
  {
   "cell_type": "code",
   "execution_count": 3,
   "metadata": {},
   "outputs": [
    {
     "name": "stdout",
     "output_type": "stream",
     "text": [
      "<class 'pandas.core.frame.DataFrame'>\n",
      "Int64Index: 138 entries, 0 to 149\n",
      "Data columns (total 4 columns):\n",
      " #   Column         Non-Null Count  Dtype \n",
      "---  ------         --------------  ----- \n",
      " 0   video_id       138 non-null    object\n",
      " 1   product_title  138 non-null    object\n",
      " 2   company        138 non-null    object\n",
      " 3   caption        138 non-null    object\n",
      "dtypes: object(4)\n",
      "memory usage: 5.4+ KB\n"
     ]
    }
   ],
   "source": [
    "youtube_df.info()"
   ]
  },
  {
   "cell_type": "code",
   "execution_count": 4,
   "metadata": {},
   "outputs": [],
   "source": [
    "text = youtube_df['caption']"
   ]
  },
  {
   "cell_type": "code",
   "execution_count": 5,
   "metadata": {},
   "outputs": [],
   "source": [
    "all_stop_words = stopwords.words('english')\n",
    "all_stop_words.remove('not')\n",
    "ps = PorterStemmer()\n",
    "\n",
    "def text_editer(text):\n",
    "    \"\"\"Takes the text and lowers the characters.. \n",
    "    It removes any symbols/punctuation. \n",
    "    It then applys the portStemmer to anything that is not a stopword and returns the review..\"\"\"\n",
    "    review = text.lower()\n",
    "    review = re.sub(\"<.+>|[^a-zA-Z]|z.+z\", \" \", review)\n",
    "    review = review.split()\n",
    "    review = [word for word in review if word not in set(all_stop_words)]\n",
    "    review = \" \".join(ps.stem(word) for word in review)\n",
    "    return review\n",
    "\n",
    "class EditingText(BaseEstimator, TransformerMixin):\n",
    "    \"\"\"Transforms the data using the text editor function and returns it as a numpy array.\"\"\"\n",
    "    def __init__(self):\n",
    "        super().__init__()\n",
    "\n",
    "    def fit(self, X, y=None):\n",
    "        return self\n",
    "\n",
    "    def transform(self, X):\n",
    "        data = np.array([text_editer(str(text)) for text in X]).flatten()\n",
    "        return data"
   ]
  },
  {
   "cell_type": "code",
   "execution_count": 6,
   "metadata": {},
   "outputs": [],
   "source": [
    "pickled_model = pickle.load(open('SGDmodel.pkl', 'rb'))"
   ]
  },
  {
   "cell_type": "markdown",
   "metadata": {},
   "source": [
    "# Testing the Model with Youtube Data "
   ]
  },
  {
   "cell_type": "code",
   "execution_count": 7,
   "metadata": {},
   "outputs": [],
   "source": [
    "values = pickled_model.predict(text)"
   ]
  },
  {
   "cell_type": "code",
   "execution_count": 8,
   "metadata": {},
   "outputs": [
    {
     "data": {
      "text/plain": [
       "array([1, 1, 1, 1, 0, 1, 1, 1, 1, 1, 0, 1, 1, 1, 1, 1, 1, 1, 1, 1, 1, 1,\n",
       "       0, 1, 1, 1, 1, 1, 1, 1, 1, 1, 1, 1, 1, 1, 1, 1, 1, 1, 1, 1, 1, 1,\n",
       "       0, 1, 1, 1, 0, 1, 1, 0, 1, 1, 1, 1, 1, 0, 1, 1, 1, 1, 1, 1, 1, 1,\n",
       "       1, 1, 1, 1, 1, 1, 0, 1, 1, 1, 1, 1, 1, 1, 1, 0, 1, 1, 1, 1, 1, 1,\n",
       "       0, 1, 0, 1, 1, 1, 1, 1, 1, 1, 1, 1, 1, 1, 0, 1, 1, 1, 0, 1, 1, 1,\n",
       "       1, 1, 0, 1, 1, 1, 1, 1, 1, 1, 1, 1, 1, 1, 1, 1, 1, 1, 1, 1, 1, 1,\n",
       "       1, 1, 1, 1, 1, 1])"
      ]
     },
     "execution_count": 8,
     "metadata": {},
     "output_type": "execute_result"
    }
   ],
   "source": [
    "values"
   ]
  },
  {
   "cell_type": "code",
   "execution_count": 9,
   "metadata": {},
   "outputs": [],
   "source": [
    "youtube_df['predicted_value'] = values"
   ]
  },
  {
   "cell_type": "code",
   "execution_count": 10,
   "metadata": {},
   "outputs": [
    {
     "data": {
      "text/html": [
       "<div>\n",
       "<style scoped>\n",
       "    .dataframe tbody tr th:only-of-type {\n",
       "        vertical-align: middle;\n",
       "    }\n",
       "\n",
       "    .dataframe tbody tr th {\n",
       "        vertical-align: top;\n",
       "    }\n",
       "\n",
       "    .dataframe thead th {\n",
       "        text-align: right;\n",
       "    }\n",
       "</style>\n",
       "<table border=\"1\" class=\"dataframe\">\n",
       "  <thead>\n",
       "    <tr style=\"text-align: right;\">\n",
       "      <th></th>\n",
       "      <th>video_id</th>\n",
       "      <th>product_title</th>\n",
       "      <th>company</th>\n",
       "      <th>caption</th>\n",
       "      <th>predicted_value</th>\n",
       "    </tr>\n",
       "  </thead>\n",
       "  <tbody>\n",
       "    <tr>\n",
       "      <th>0</th>\n",
       "      <td>kGyZn-kOgF8</td>\n",
       "      <td>Iphone 14 Pro Max</td>\n",
       "      <td>Apple</td>\n",
       "      <td>foreign[Music]14 pro Max[Music]I've been using...</td>\n",
       "      <td>1</td>\n",
       "    </tr>\n",
       "    <tr>\n",
       "      <th>1</th>\n",
       "      <td>Qf1nfq_FW5Q</td>\n",
       "      <td>Iphone 14 Pro Max</td>\n",
       "      <td>Apple</td>\n",
       "      <td>Hello everyone it's SpawnPoiint and I've  been...</td>\n",
       "      <td>1</td>\n",
       "    </tr>\n",
       "    <tr>\n",
       "      <th>3</th>\n",
       "      <td>FztDT48cPgM</td>\n",
       "      <td>Iphone 14 Pro Max</td>\n",
       "      <td>Apple</td>\n",
       "      <td>apple did a killer job showing off theiphone 1...</td>\n",
       "      <td>1</td>\n",
       "    </tr>\n",
       "    <tr>\n",
       "      <th>4</th>\n",
       "      <td>IzbxX55UTIg</td>\n",
       "      <td>Iphone 14 Pro Max</td>\n",
       "      <td>Apple</td>\n",
       "      <td>hi everyone Aaron here for zollotech and the  ...</td>\n",
       "      <td>1</td>\n",
       "    </tr>\n",
       "    <tr>\n",
       "      <th>5</th>\n",
       "      <td>AUsw5zTZPzc</td>\n",
       "      <td>Iphone 14 Pro Max</td>\n",
       "      <td>Apple</td>\n",
       "      <td>whoa the 14 plus is overheating like madApple ...</td>\n",
       "      <td>0</td>\n",
       "    </tr>\n",
       "    <tr>\n",
       "      <th>...</th>\n",
       "      <td>...</td>\n",
       "      <td>...</td>\n",
       "      <td>...</td>\n",
       "      <td>...</td>\n",
       "      <td>...</td>\n",
       "    </tr>\n",
       "    <tr>\n",
       "      <th>145</th>\n",
       "      <td>sUkyWEXwMd0</td>\n",
       "      <td>Google Pixel 6 Pro</td>\n",
       "      <td>Google</td>\n",
       "      <td>(upbeat music)- Hello everyone and welcome to ...</td>\n",
       "      <td>1</td>\n",
       "    </tr>\n",
       "    <tr>\n",
       "      <th>146</th>\n",
       "      <td>Cajlwzk_igw</td>\n",
       "      <td>Google Pixel 6 Pro</td>\n",
       "      <td>Google</td>\n",
       "      <td>So we're getting close to the Pixel 6 launch a...</td>\n",
       "      <td>1</td>\n",
       "    </tr>\n",
       "    <tr>\n",
       "      <th>147</th>\n",
       "      <td>YMlTSmusEmA</td>\n",
       "      <td>Google Pixel 6 Pro</td>\n",
       "      <td>Google</td>\n",
       "      <td>I just touched the new Google pixelphones we'v...</td>\n",
       "      <td>1</td>\n",
       "    </tr>\n",
       "    <tr>\n",
       "      <th>148</th>\n",
       "      <td>fKZWeUywTW4</td>\n",
       "      <td>Google Pixel 6 Pro</td>\n",
       "      <td>Google</td>\n",
       "      <td>Unusable.I'm switching.Everyone keeps saying t...</td>\n",
       "      <td>1</td>\n",
       "    </tr>\n",
       "    <tr>\n",
       "      <th>149</th>\n",
       "      <td>7nM6EaR50Tc</td>\n",
       "      <td>Google Pixel 6 Pro</td>\n",
       "      <td>Google</td>\n",
       "      <td>so we've come a long way withsmartphones and y...</td>\n",
       "      <td>1</td>\n",
       "    </tr>\n",
       "  </tbody>\n",
       "</table>\n",
       "<p>138 rows × 5 columns</p>\n",
       "</div>"
      ],
      "text/plain": [
       "        video_id        product_title company  \\\n",
       "0    kGyZn-kOgF8   Iphone 14 Pro Max    Apple   \n",
       "1    Qf1nfq_FW5Q   Iphone 14 Pro Max    Apple   \n",
       "3    FztDT48cPgM   Iphone 14 Pro Max    Apple   \n",
       "4    IzbxX55UTIg   Iphone 14 Pro Max    Apple   \n",
       "5    AUsw5zTZPzc   Iphone 14 Pro Max    Apple   \n",
       "..           ...                  ...     ...   \n",
       "145  sUkyWEXwMd0  Google Pixel 6 Pro   Google   \n",
       "146  Cajlwzk_igw  Google Pixel 6 Pro   Google   \n",
       "147  YMlTSmusEmA  Google Pixel 6 Pro   Google   \n",
       "148  fKZWeUywTW4  Google Pixel 6 Pro   Google   \n",
       "149  7nM6EaR50Tc  Google Pixel 6 Pro   Google   \n",
       "\n",
       "                                               caption  predicted_value  \n",
       "0    foreign[Music]14 pro Max[Music]I've been using...                1  \n",
       "1    Hello everyone it's SpawnPoiint and I've  been...                1  \n",
       "3    apple did a killer job showing off theiphone 1...                1  \n",
       "4    hi everyone Aaron here for zollotech and the  ...                1  \n",
       "5    whoa the 14 plus is overheating like madApple ...                0  \n",
       "..                                                 ...              ...  \n",
       "145  (upbeat music)- Hello everyone and welcome to ...                1  \n",
       "146  So we're getting close to the Pixel 6 launch a...                1  \n",
       "147  I just touched the new Google pixelphones we'v...                1  \n",
       "148  Unusable.I'm switching.Everyone keeps saying t...                1  \n",
       "149  so we've come a long way withsmartphones and y...                1  \n",
       "\n",
       "[138 rows x 5 columns]"
      ]
     },
     "execution_count": 10,
     "metadata": {},
     "output_type": "execute_result"
    }
   ],
   "source": [
    "youtube_df"
   ]
  },
  {
   "cell_type": "code",
   "execution_count": 11,
   "metadata": {},
   "outputs": [
    {
     "data": {
      "text/plain": [
       "video_id           138\n",
       "product_title      138\n",
       "company            138\n",
       "caption            138\n",
       "predicted_value    138\n",
       "dtype: int64"
      ]
     },
     "execution_count": 11,
     "metadata": {},
     "output_type": "execute_result"
    }
   ],
   "source": [
    "youtube_df.count()"
   ]
  },
  {
   "cell_type": "code",
   "execution_count": 12,
   "metadata": {},
   "outputs": [],
   "source": [
    "new_you_df = pd.DataFrame(columns=['Product', 'Company', '# Pos_Reviews', '# Neg_Reviews','Total_reviews'])\n",
    "new_you_df['Product'] = youtube_df['product_title'].unique()\n",
    "new_you_df['Company'] = youtube_df['company'].unique()"
   ]
  },
  {
   "cell_type": "code",
   "execution_count": 13,
   "metadata": {},
   "outputs": [
    {
     "name": "stdout",
     "output_type": "stream",
     "text": [
      "43 4\n",
      "37 7\n",
      "44 3\n"
     ]
    }
   ],
   "source": [
    "for product in youtube_df['product_title'].unique():\n",
    "    #print(youtube_df['predicted_value'].where((youtube_df['product_title']==product) and (youtube_df['predicted_value'] == 1)).value_counts())\n",
    "    pos = len(youtube_df.loc[youtube_df['predicted_value'].eq(1) & youtube_df['product_title'].eq(product)])\n",
    "    neg = len(youtube_df.loc[youtube_df['predicted_value'].eq(0) & youtube_df['product_title'].eq(product)])\n",
    "    \n",
    "    print(pos, neg)\n",
    "    \n",
    "    new_you_df.loc[new_you_df['Product'].eq(product),'# Pos_Reviews'] = pos\n",
    "    new_you_df.loc[new_you_df['Product'].eq(product),'# Neg_Reviews'] = neg"
   ]
  },
  {
   "cell_type": "code",
   "execution_count": 15,
   "metadata": {},
   "outputs": [
    {
     "name": "stdout",
     "output_type": "stream",
     "text": [
      "<class 'pandas.core.frame.DataFrame'>\n",
      "RangeIndex: 3 entries, 0 to 2\n",
      "Data columns (total 6 columns):\n",
      " #   Column         Non-Null Count  Dtype \n",
      "---  ------         --------------  ----- \n",
      " 0   Product        3 non-null      object\n",
      " 1   Company        3 non-null      object\n",
      " 2   # Pos_Reviews  3 non-null      object\n",
      " 3   # Neg_Reviews  3 non-null      object\n",
      " 4   Total_reviews  3 non-null      object\n",
      " 5   Total_Rating   3 non-null      object\n",
      "dtypes: object(6)\n",
      "memory usage: 272.0+ bytes\n"
     ]
    }
   ],
   "source": [
    "new_you_df.info()"
   ]
  },
  {
   "cell_type": "code",
   "execution_count": 18,
   "metadata": {},
   "outputs": [],
   "source": [
    "new_you_df['Total_reviews'] = new_you_df['# Pos_Reviews'] + new_you_df['# Neg_Reviews']\n",
    "new_you_df['Total_Rating'] = (new_you_df['# Pos_Reviews'] / new_you_df['Total_reviews']) * 10\n",
    "\n",
    "new_you_df = new_you_df.astype({'# Pos_Reviews': int, '# Neg_Reviews': int, 'Total_reviews': int, \"Total_Rating\" : float})"
   ]
  },
  {
   "cell_type": "code",
   "execution_count": 19,
   "metadata": {},
   "outputs": [
    {
     "name": "stdout",
     "output_type": "stream",
     "text": [
      "<class 'pandas.core.frame.DataFrame'>\n",
      "RangeIndex: 3 entries, 0 to 2\n",
      "Data columns (total 6 columns):\n",
      " #   Column         Non-Null Count  Dtype  \n",
      "---  ------         --------------  -----  \n",
      " 0   Product        3 non-null      object \n",
      " 1   Company        3 non-null      object \n",
      " 2   # Pos_Reviews  3 non-null      int64  \n",
      " 3   # Neg_Reviews  3 non-null      int64  \n",
      " 4   Total_reviews  3 non-null      int64  \n",
      " 5   Total_Rating   3 non-null      float64\n",
      "dtypes: float64(1), int64(3), object(2)\n",
      "memory usage: 272.0+ bytes\n"
     ]
    }
   ],
   "source": [
    "new_you_df.info()"
   ]
  },
  {
   "cell_type": "code",
   "execution_count": 23,
   "metadata": {},
   "outputs": [],
   "source": [
    "new_you_df['Total_Rating'] = new_you_df['Total_Rating'].round(1)"
   ]
  },
  {
   "cell_type": "code",
   "execution_count": 24,
   "metadata": {},
   "outputs": [
    {
     "data": {
      "text/html": [
       "<div>\n",
       "<style scoped>\n",
       "    .dataframe tbody tr th:only-of-type {\n",
       "        vertical-align: middle;\n",
       "    }\n",
       "\n",
       "    .dataframe tbody tr th {\n",
       "        vertical-align: top;\n",
       "    }\n",
       "\n",
       "    .dataframe thead th {\n",
       "        text-align: right;\n",
       "    }\n",
       "</style>\n",
       "<table border=\"1\" class=\"dataframe\">\n",
       "  <thead>\n",
       "    <tr style=\"text-align: right;\">\n",
       "      <th></th>\n",
       "      <th>Product</th>\n",
       "      <th>Company</th>\n",
       "      <th># Pos_Reviews</th>\n",
       "      <th># Neg_Reviews</th>\n",
       "      <th>Total_reviews</th>\n",
       "      <th>Total_Rating</th>\n",
       "    </tr>\n",
       "  </thead>\n",
       "  <tbody>\n",
       "    <tr>\n",
       "      <th>0</th>\n",
       "      <td>Iphone 14 Pro Max</td>\n",
       "      <td>Apple</td>\n",
       "      <td>43</td>\n",
       "      <td>4</td>\n",
       "      <td>47</td>\n",
       "      <td>9.1</td>\n",
       "    </tr>\n",
       "    <tr>\n",
       "      <th>1</th>\n",
       "      <td>Samsung Galaxy S22</td>\n",
       "      <td>Samsung</td>\n",
       "      <td>37</td>\n",
       "      <td>7</td>\n",
       "      <td>44</td>\n",
       "      <td>8.4</td>\n",
       "    </tr>\n",
       "    <tr>\n",
       "      <th>2</th>\n",
       "      <td>Google Pixel 6 Pro</td>\n",
       "      <td>Google</td>\n",
       "      <td>44</td>\n",
       "      <td>3</td>\n",
       "      <td>47</td>\n",
       "      <td>9.4</td>\n",
       "    </tr>\n",
       "  </tbody>\n",
       "</table>\n",
       "</div>"
      ],
      "text/plain": [
       "               Product  Company  # Pos_Reviews  # Neg_Reviews  Total_reviews  \\\n",
       "0   Iphone 14 Pro Max     Apple             43              4             47   \n",
       "1  Samsung Galaxy S22   Samsung             37              7             44   \n",
       "2  Google Pixel 6 Pro    Google             44              3             47   \n",
       "\n",
       "   Total_Rating  \n",
       "0           9.1  \n",
       "1           8.4  \n",
       "2           9.4  "
      ]
     },
     "execution_count": 24,
     "metadata": {},
     "output_type": "execute_result"
    }
   ],
   "source": [
    "new_you_df"
   ]
  },
  {
   "cell_type": "markdown",
   "metadata": {},
   "source": [
    "To CSV file"
   ]
  },
  {
   "cell_type": "code",
   "execution_count": 25,
   "metadata": {},
   "outputs": [],
   "source": [
    "new_you_df.to_csv('product_rating.csv')"
   ]
  },
  {
   "cell_type": "markdown",
   "metadata": {},
   "source": [
    "# To SQL Database"
   ]
  },
  {
   "cell_type": "code",
   "execution_count": 26,
   "metadata": {},
   "outputs": [],
   "source": [
    "import sqlite3"
   ]
  },
  {
   "cell_type": "code",
   "execution_count": 27,
   "metadata": {},
   "outputs": [],
   "source": [
    "conn = sqlite3.connect('test_database')\n",
    "c = conn.cursor()"
   ]
  },
  {
   "cell_type": "code",
   "execution_count": 28,
   "metadata": {},
   "outputs": [],
   "source": [
    "c.execute('CREATE TABLE IF NOT EXISTS products (Product text, \\\n",
    "          Company text, positive_review_number number, \\\n",
    "          negative_review_number number, total_review number, total_rating number)')\n",
    "conn.commit()"
   ]
  },
  {
   "cell_type": "markdown",
   "metadata": {},
   "source": []
  },
  {
   "cell_type": "code",
   "execution_count": 29,
   "metadata": {},
   "outputs": [
    {
     "name": "stderr",
     "output_type": "stream",
     "text": [
      "/Library/Frameworks/Python.framework/Versions/3.9/lib/python3.9/site-packages/pandas/core/generic.py:2872: UserWarning: The spaces in these column names will not be changed. In pandas versions < 0.14, spaces were converted to underscores.\n",
      "  sql.to_sql(\n"
     ]
    }
   ],
   "source": [
    "new_you_df.to_sql('products', if_exists='replace', con=conn, index=False)"
   ]
  },
  {
   "cell_type": "code",
   "execution_count": 30,
   "metadata": {},
   "outputs": [
    {
     "data": {
      "text/plain": [
       "<sqlite3.Cursor at 0x7fea97a9c340>"
      ]
     },
     "execution_count": 30,
     "metadata": {},
     "output_type": "execute_result"
    }
   ],
   "source": [
    "c.execute('''  \n",
    "\t\tSELECT * FROM products\n",
    "          ''')"
   ]
  },
  {
   "cell_type": "code",
   "execution_count": 31,
   "metadata": {},
   "outputs": [
    {
     "name": "stdout",
     "output_type": "stream",
     "text": [
      "                     0        1   2  3   4    5\n",
      "0   Iphone 14 Pro Max     Apple  43  4  47  9.1\n",
      "1  Samsung Galaxy S22   Samsung  37  7  44  8.4\n",
      "2  Google Pixel 6 Pro    Google  44  3  47  9.4\n"
     ]
    }
   ],
   "source": [
    "df = pd.DataFrame(c.fetchall())    \n",
    "print (df)\n"
   ]
  },
  {
   "cell_type": "code",
   "execution_count": null,
   "metadata": {},
   "outputs": [],
   "source": []
  }
 ],
 "metadata": {
  "kernelspec": {
   "display_name": "Python 3.9.6 64-bit",
   "language": "python",
   "name": "python3"
  },
  "language_info": {
   "codemirror_mode": {
    "name": "ipython",
    "version": 3
   },
   "file_extension": ".py",
   "mimetype": "text/x-python",
   "name": "python",
   "nbconvert_exporter": "python",
   "pygments_lexer": "ipython3",
   "version": "3.9.6"
  },
  "orig_nbformat": 4,
  "vscode": {
   "interpreter": {
    "hash": "aee8b7b246df8f9039afb4144a1f6fd8d2ca17a180786b69acc140d282b71a49"
   }
  }
 },
 "nbformat": 4,
 "nbformat_minor": 2
}
